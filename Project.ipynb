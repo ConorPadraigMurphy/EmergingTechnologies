{
 "cells": [
  {
   "cell_type": "markdown",
   "metadata": {},
   "source": [
    "## Deutsch's Algorithm \n",
    "###### By Conor Murphy\n",
    "<br>\n",
    "\n",
    "\n"
   ]
  },
  {
   "cell_type": "markdown",
   "metadata": {},
   "source": [
    "## Introduction\n",
    "---\n",
    "For this assignment I have been tasked to explore Deutsch's Algorithm. This task has been assigned to me for my fouth year in Software Development by Ian McLoughlin. In this I will try explore and explain what Deutch's algorithm \n",
    "<br><br><br>"
   ]
  },
  {
   "cell_type": "markdown",
   "metadata": {},
   "source": [
    "## What is Quantum Computing\n",
    "---\n",
    "\n",
    "Quantum computing is a cutting-edge approach to processing and storing information that uses the fundamental principles of quantum mechanics. Quantum computing uses qubits(quantum bits), whereas regular classic computers use bits e.g. 0 or 1. Qubits can exist in a superposition of states, which means that qubits can represent 0 and 1 at the same time. With this unique feature of quantum computing as well as entanglement, allows us to solve complex problems more efficiently.\n",
    "\n",
    "\n",
    "### The Fundamental Principles of Quantum Computing\n",
    "\n",
    "With the brief introduction to the basic concept of quantum computing, we can now delve deeper into the core principles and components that enables us to harness the cutting-edge capabilities of quantum computing. Quantum computing's core principles and building blocks distinguishes it from classic computing and offers us a much greater possibility at solving complex problems more efficiently. So lets delve deeper into the key elements that allow us to harness the true potential of quantum computing.\n",
    "\n",
    "1. **Qubits**<br>\n",
    "   Qubits which is short for Quantum Bits are used as the building blocks for quantum computing. Unlike classic computing bits which can either be 0 OR 1, quantum bits have an ability called superposition, which means that a quantum bit can be 0 AND 1 at the same time. This ability allows us to open the door to process many calculations or processes at the same time. Another ability of qubits is that they can become entangled, which is another way quantum bits and classic bits differ as classic bits are unable to entangle. With the combination of both superposition and entanglement that allows quantum computers to solve complex problems more efficiently.\n",
    "\n",
    "2. **Superposition**<br>\n",
    "   Superposition is a concept in quantum mechanics that forms the basis for the capabilities in quantum computing. It allows qubits to exist in multiple states at the same time. E.g. qubits can represent both 0 and 1 at the same time. Superposition changes how information is processed because it allows quantum computers to explore the many possible solutions to a problem. This allows quantum computations to work in parallel which can offer the completion of a certain task compared to what you could expect from a classic computer. Superposition forms the foundation of  what quantum computing offers and shows us the difference between it and classic quantum computing which is not capable at representing bits at the same time.\n",
    "\n",
    "3. **Entanglement**<br>\n",
    "   Entanglement in quantum mechanics is where two or more particles(electrons, photons, etc) become deeply interconnected, regardless of what the physical distance is between them. When particles become entangled, the state of one of the particles will influence the state of the other, it does so in a way that it seems to defy the boundaries of physics. In quantum computing, entangled qubits(also known as quantum bits) allow for coordinated and synchronised operations that classical bits or classic computers cannot perform.\n",
    "\n",
    "4. **Quantum Gates & Quantum Algorithms**<br>\n",
    "   Quantum gates and quantum algorithms are the responsible for the amazing computational power of quantum computing. Quantum Gates are the what are responsible for manipulating the states of qubits to perform specific quantum operations such as superposition and entanglement. Quantum gates are the building blocks that enable us to create quantum circuits which play an important part in the computing capabilities of quantum computing. But what about quantum algorithms?, quantum algorithms are the driving force behind quantum computers computational power. These algorithms are used to leverage the properties of quantum bits in quantum computers. They are designed in such a way that we can use quantum computers to solve complex problems efficiently compared to how a classic computer may solve the same complex problems. \n",
    "   Quantum algorithms are created to solve specific problems efficiently, such as scientific simulations, cryptography as well as other processes and problems. Quantum algorithms harness the power of superposition, entanglement and quantum gates to help us unlock the full potential of quantum computing.\n",
    "\n",
    "With these principles, quantum computing has the potential to help us transform carious different fields such as cryptography, drug discovery and problems that we would have thought are computationally impossible. But unfortunately quantum computing is still in its early days and quantum computers are not yet at a level where they can perform a  useful task faster, cheaper or more efficiently than a classical computer. So if that is the case, what are quantum computers used for?, well one use of quantum computing is machine learning. Machine learning is when we analyse, generally, large amounts of data to help computers make better predictions and decisions. For example with machine learning we can create a model to detect/track cars, buses or bikes. Which in turn could help someone study traffic patterns or other interests.\n",
    "\n",
    "\n",
    "### The Challenges and Limitations of Quantum Computing\n",
    "\n",
    "Even though Quantum Computing is a cutting-edge approach and has the possibility to help many different fields, there are still many challenges and limitations that quantum computing will need to overcome before quantum computers can be adopted widely. Here are some of the challenges and limitations that are experienced by quantum computing.\n",
    "\n",
    "   1. **Scalability**: The current quantum computers we have are actually quite difficult to scale compared to todays classical computers. This is because quantum computers today have have a small number of quantum bits which is what limits them and their processing power. And to build larger quantum computers (vertical scaling) we would have to figure out how to fix the issue of quantum bits fragility and how to maintain quantum coherence. Quantum coherence being a property of quantum computing/mechanics which is the ability to maintain multiple states at the sane time.\n",
    "\n",
    "   2. **Error Correction**: Quantum computers need to be able to have reliable error correction so that they can provide reliable calculations. Implementing this can be quite difficult and as a side effect of implementing error correction it will cause these quantum algorithms to require more resources.\n",
    "\n",
    "   3. **Environmental Noise**: Another challenge that you may never have thought abut when it comes to quantum computing is environmental noise e.g. Thermal noise, Photon noise, Electronic noise and electronic noise. These factors such as photon or heat can cause errors when it comes to measuring a quantum bit which will of course cause an error in the process/calculation.\n",
    "\n",
    "\n",
    "\n",
    "<br><br><br>\n",
    "   \n",
    "   "
   ]
  },
  {
   "cell_type": "markdown",
   "metadata": {},
   "source": [
    "## Deutsch's Algorithm ?\n",
    "\n",
    "Deutsch's Algorithm was developed in 1985 by British physicist David Deutsch. The groundbreaking algorithm showcased a new era of quantum computer problem solving by showcasing how quantum computers could outperform classic computers in completing specific tasks But what was Deutsch's algorithm created to do?, Deutsch's algorithm was created to solve a problem, The Deutsch Problem.\n",
    "\n",
    "\n",
    "\n",
    "## The Deutsch Problem\n",
    "\n",
    "Deutsch's algorithm was created to solve the a problem, The Deutsch problem. Deutsch's problems is a very specific computational problem in quantum computing. In this problem we are presented with a black-box function (also known as an oracle) where we can either have an single bit input of 0 or 1 will receive a single bit output of either 0 or 1. This function can fall into one of two categories, it will either be Constant or Balanced. But what does this mean?\n",
    "\n",
    "**Constant**: A constant function means that regardless of what single bit input we give the function we can expect to get the same single bit output every time. So for example if we were to input 0 we could get a 1 back, but if we inputted a 1 we could also expect a 1 back.\n",
    "\n",
    "**Balanced**: A balanced function means that the single bit output is dependent on what single bit input is given to the function. Which means that there will be different outputs for the two outputs it can receive e.g. 0, 1.  \n",
    "\n",
    "The objective behind Deutsch's problem was to determine whether or not that the function in the black-box was constant or balanced, but we also had to find this out with the fewest amount of queries to the black-box function. Before we had Deutsch's algorithm, with the worst case scenario there would have to be at least two queries made to the black-box function to find out if we had a constant or balanced function.\n",
    "\n",
    "\n",
    "## How does Deutsch's Algorithm work?\n",
    "\n",
    "Deutsch's Algorithm Step by Step:\n",
    " 1. **Initialisation**: In the first step of Deutsch's algorithm, we initialise two qubits and have them set to a know state. E.g. 0\n",
    " 2. **Hadamard Transformation**: In this step we apply Hadamard's transformation to both of the qubits that we set in the first step. This process places each qubit in a superposition of states, meaning that have a 50 percent chance of being 0 or a 50 percent chance of being 1. To understand superposition more you can go back to \"The Fundamental Principles of Quantum Computing\" part of this assignment.\n",
    " 3. **Black-Box**: In this third step Deutsch's algorithm uses a black-box function. This checks to see if the function is constant or balanced through the use of entanglement. Entanglement is used to distinguish between constant and balanced functions.\n",
    " 4. **Measurement Basis**: In this step we return the qubits to the standard measurement basis, this step is required to get the final result from the quantum state. \n",
    " 5. **Measurement and Solution**:  In this fifth and final step the qubits are measured which can give us the answer to whether or not the black-box function is constant or balanced.\n",
    "\n",
    "So if the measurement we receive is a 1, this means according to Deutsch's algorithm we have a balanced black-box function, but if we have a measurement of 0 according to Deutsch's algorithm we have a constant black-box function.\n",
    "\n"
   ]
  },
  {
   "cell_type": "markdown",
   "metadata": {},
   "source": [
    "## Deutsch's Algorithm Code\n",
    "The following code is a python implementation of Deutsch's' algorithm using qiskit. It is a two qubit circuit that can be used to find out if a function is constant or balanced."
   ]
  },
  {
   "cell_type": "code",
   "execution_count": 39,
   "metadata": {},
   "outputs": [
    {
     "name": "stdout",
     "output_type": "stream",
     "text": [
      "balanced {'0': 6, '1': 4}\n",
      "unbalanced-0 {'1': 6, '0': 4}\n",
      "unbalanced-1 {'1': 5, '0': 5}\n"
     ]
    }
   ],
   "source": [
    "## https://jan-czechowski.medium.com/implementing-deutschs-algorithm-in-qiskit-and-cirq-48949d60e59d\n",
    "# Imported the required modules\n",
    "import qiskit\n",
    "from qiskit import QuantumCircuit, QuantumRegister,ClassicalRegister, Aer\n",
    "\n",
    "#define quantum registers anf a classic register\n",
    "regs = [QuantumRegister(2, 'q'), ClassicalRegister(1, 'c')]\n",
    "\n",
    "# state initialization: Apply X on the second qubit, and Hadamard gates on both qubits\n",
    "init = QuantumCircuit(*regs)\n",
    "init.x(1)\n",
    "init.h(0)\n",
    "init.h(1)\n",
    "init.barrier()\n",
    "\n",
    "# Balanced Oracle: Apply a controlled-X (CNOT) gate, the ouput depends on the input\n",
    "balanced = QuantumCircuit(*regs)\n",
    "balanced.cx(0,1)\n",
    "balanced.barrier()\n",
    "\n",
    "# Unbalanced Oracle 0: Unity operation, no change to input\n",
    "unbalanced0 = QuantumCircuit(*regs)\n",
    "unbalanced0.barrier()\n",
    "\n",
    "# Unbalanced Oracle 1: Apply X gate on the second qubit, output flipped regardless of input\n",
    "unbalanced1 = QuantumCircuit(*regs)\n",
    "unbalanced1.x(1)\n",
    "unbalanced1.barrier()\n",
    "\n",
    "# Apply Hadamard gate to the first qubit and measure it\n",
    "end = QuantumCircuit(*regs)\n",
    "end.h(0)\n",
    "end.measure(0, 0)\n",
    "\n",
    "# Use Qiskit Aer simulator\n",
    "sim = Aer.get_backend('qasm_simulator')\n",
    "\n",
    "#Unbalanced can be seen as the same as constant\n",
    "# Run simulation for each kind of oracle (balanced, unbalanced0, unbalanced1)\n",
    "for kind, oracle in (('balanced', balanced),\n",
    "                     ('unbalanced-0', unbalanced0),\n",
    "                     ('unbalanced-1', unbalanced1)):\n",
    "    \n",
    "    # Compose the circuits with oracles and the end circuit, and transpile\n",
    "    #changed circuit. coompose concatenates circuits and the front = true makes sure that operations are added to the begining of the circuit whic fixed the issue \n",
    "    # I was having from the example\n",
    "    circuit = init.compose(oracle, front=True).compose(end, front=True)\n",
    "    transpiled = qiskit.transpile(circuit)\n",
    "\n",
    "    # Run the simulation and print the measurement outcomes\n",
    "    counts = sim.run(transpiled, shots=10).result().get_counts()\n",
    "    print(kind, counts)"
   ]
  },
  {
   "cell_type": "markdown",
   "metadata": {},
   "source": [
    "## References\n",
    "How does the Deutsch's algorithm work?\n",
    "https://www.classiq.io/insights/the-deutsch-jozsa-algorithm-explained#:~:text=Using%20the%20Deutsch%2DJozsa%20approach,or%20all%20outputs%20are%201.\n",
    "\n",
    "Checking what parallel computing is\n",
    "https://en.wikipedia.org/wiki/Parallel_computing\n",
    "\n",
    "AWS quantum computing: https://aws.amazon.com/what-is/quantum-computing/#:~:text=superposition%20of%20states.-,What%20are%20the%20principles%20of%20quantum%20computing%3F,superposition%2C%20entanglement%2C%20and%20decoherence.\n",
    "\n",
    "Deutsch Algorithm: https://anonymousket.medium.com/quantum-algo-deutsch-jozsa-algorithm-7181bd1e6a02\n",
    "\n",
    "Deutsch's Algorithm Code Example: https://jan-czechowski.medium.com/implementing-deutschs-algorithm-in-qiskit-and-cirq-48949d60e59d\n",
    "\n",
    "Limitations and Challenges: https://arxiv.org/abs/2301.08542#:~:text=While%20current%20error%2Dcorrecting%20strategies,quantum%20algorithms%20of%20increasing%20complexity.\n",
    "https://www.nature.com/articles/d41586-023-01692-9#:~:text=The%20quantum%20rules%20of%20this,those%20do%20not%20yet%20exist.\n",
    "https://news.uchicago.edu/story/noise-cancelling-qubits-can-minimize-errors-quantum-computers#:~:text=A%20daunting%20challenge,to%20high%20rates%20of%20error.\n",
    "https://www.nature.com/articles/s41534-020-00309-7#:~:text=With%20active%20research%20and%20development,corrected%20to%20improve%20measurement%20fidelity.\n",
    "\n",
    "\n",
    "\n",
    "https://github.com/qiskit-community/qiskit-community-tutorials/blob/master/algorithms/deutsch_jozsa.ipynb"
   ]
  }
 ],
 "metadata": {
  "kernelspec": {
   "display_name": "base",
   "language": "python",
   "name": "python3"
  },
  "language_info": {
   "codemirror_mode": {
    "name": "ipython",
    "version": 3
   },
   "file_extension": ".py",
   "mimetype": "text/x-python",
   "name": "python",
   "nbconvert_exporter": "python",
   "pygments_lexer": "ipython3",
   "version": "3.11.5"
  },
  "orig_nbformat": 4
 },
 "nbformat": 4,
 "nbformat_minor": 2
}
