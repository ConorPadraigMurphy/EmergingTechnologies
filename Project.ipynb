{
 "cells": [
  {
   "cell_type": "markdown",
   "metadata": {},
   "source": [
    "## Deutsch's Algorithm \n",
    "###### By Conor Murphy"
   ]
  },
  {
   "cell_type": "markdown",
   "metadata": {},
   "source": [
    "## Introduction\n",
    "\n",
    "For this assignment I have been tasked to explore Deutsch's Algorithm. This task has been assigned to me for my fouth year in Software Development by Ian McLoughlin. In this I will try explore and explain what Deutch's algorithm "
   ]
  },
  {
   "cell_type": "markdown",
   "metadata": {},
   "source": [
    "## What is Deutsch's Algorithm ?\n",
    "\n",
    "Deutsch's Algorithm was developed in 1985 by British physicist David Deutsch. The goundbreaking algorithm showcased a new era of quantum computer problem solving by showcasing how quantum computers could outperform classic computers in completing specific tasks But what was Deutsch's algorithm created to do?, Deautsch's algorithm was created to solve a problem, The Deutsch Problem.\n",
    "\n",
    "The Deutsch problem, we are prsented by a black-box function (also known as oracle) where we can input a 0 or 1 as a single bit input and we will recieve a single bit out or a 0 or 1 as an output. The function will either be Constant or Balanced. Constant means that regardless of the input(whether it is 0 or 1) we can expect the same output everytime. And the Balanced Function means that the output is dependent on ther input that is revieved so that different outputs are possible for the two possible inputs, 1 and 0.\n",
    "\n",
    "The objective behind Deutsch problem was to determine whether or not the function was constant or balanced and to do so with the fewest possible queries to the back box function. But in before deutsch's algorithm and having the worst-case scenario we would have to make at least two queries to the black box function to distinguish whether or not a specific process is balanced or constant.\n",
    "\n",
    "## How does Deutsch's Algorithm work?\n",
    "\n",
    "The Deutsch algorithm has a five step process.\n",
    " 1. In the forst step quantum we initalize two quantum bits.\n",
    " 2. In the second step we use the Hadamard transformation on both bits, this means each qubit has a fifty percent chance to be a 1 and a fifty percent chnace to be a 0.\n",
    " 3. The third step is where the black box function determines whether or not the outputs are constant or balanced via quantum entanglement.\n",
    " 4. The fourth step returns those bits to the measurement basis in order to find the answer.\n",
    " 5. And in the fifth and final step, the bits are mesured to obtain the solution.\n",
    "\n",
    "If the measurement result is a 0 then the blackbox function is constant and if the measurement is 1 this indicates that it is balanced.\n",
    "\n"
   ]
  },
  {
   "cell_type": "markdown",
   "metadata": {},
   "source": [
    "## Refrences\n",
    "How does the Deutsch's algorithm work?\n",
    "https://www.classiq.io/insights/the-deutsch-jozsa-algorithm-explained#:~:text=Using%20the%20Deutsch%2DJozsa%20approach,or%20all%20outputs%20are%201."
   ]
  }
 ],
 "metadata": {
  "language_info": {
   "name": "python"
  },
  "orig_nbformat": 4
 },
 "nbformat": 4,
 "nbformat_minor": 2
}
