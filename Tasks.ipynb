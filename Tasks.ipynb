{
 "cells": [
  {
   "cell_type": "markdown",
   "metadata": {},
   "source": [
    "Task 1\n",
    "---"
   ]
  },
  {
   "cell_type": "code",
   "execution_count": null,
   "metadata": {
    "vscode": {
     "languageId": "plaintext"
    }
   },
   "outputs": [],
   "source": [
    "def collatz_sequence(n):\n",
    "    collatz_numbers=list() \n",
    "    \n",
    "    while (n!=1) :\n",
    "        collatz_numbers.append(n) \n",
    "        if (n%2==0) :\n",
    "            n=n//2\n",
    "        else:\n",
    "            n=(3*n)+1\n",
    "    collatz_numbers.append(1)\n",
    "    l=len(collatz_numbers)\n",
    "\n",
    "    print(\"The length of collatz sequence is\", l)\n",
    "    print(\"Sequence:\")\n",
    "    for i in range(0,l):\n",
    "      print(collatz_numbers[i])\n",
    "\n",
    "collatz_sequence(10000)"
   ]
  }
 ],
 "metadata": {
  "language_info": {
   "name": "python"
  },
  "orig_nbformat": 4
 },
 "nbformat": 4,
 "nbformat_minor": 2
}
