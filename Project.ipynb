{
 "cells": [
  {
   "cell_type": "markdown",
   "metadata": {},
   "source": [
    "## Deutsch's Algorithm \n",
    "###### By Conor Murphy"
   ]
  },
  {
   "cell_type": "markdown",
   "metadata": {},
   "source": [
    "## Introduction\n",
    "\n",
    "For this assignment I have been tasked to explore Deutsch's Algorithm. This task has been assigned to me for my fouth year in Software Development by Ian McLoughlin. In this I will try explore and explain what Deutch's algorithm "
   ]
  },
  {
   "cell_type": "markdown",
   "metadata": {},
   "source": [
    "## What is Deutsch's Algorithm ?\n",
    "\n",
    "Deutsch's Algorithm was developed in 1985 by British physicist David Deutsch. The goundbreaking algorithm showcased a new era of quantum computer problem solving by showcasing how quantum computers could outperform classic computers in completing specific tasks But what was Deutsch's algorithm created to do?, Deautsch's algorithm was created to solve a problem, The Deutsch Problem.\n",
    "\n",
    "The Deutsch problem, we are prsented by a black-box function (also known as oracle) where we can input a 0 or 1 as a single bit input and we will recieve a single bit out or a 0 or 1 as an output. The function will either be Constant or Balanced. Constant means that regardless of the input(whether it is 0 or 1) we can expect the same output everytime. And the Balanced Function means that the output is dependent on ther input that is revieved so that different outputs are possible for the two possible inputs, 1 and 0.\n",
    "\n",
    "The objective behind Deutsch problem was to determine whether or not the function was constant or balanced and to do so with the fewest possible queries to the back box function. But in before deutsch's algorithm and having the worst-case scenario we would have to make at least two queries to the black box function to distinguish whether or not a specific process is balanced or constant.\n",
    "\n",
    "## How does Deutsch's Algorithm work?\n",
    "\n"
   ]
  }
 ],
 "metadata": {
  "language_info": {
   "name": "python"
  },
  "orig_nbformat": 4
 },
 "nbformat": 4,
 "nbformat_minor": 2
}
