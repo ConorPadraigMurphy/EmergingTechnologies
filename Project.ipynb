{
 "cells": [
  {
   "cell_type": "markdown",
   "metadata": {},
   "source": [
    "## **Deutsch's Algorithm**\n",
    "##### By Conor Murphy\n",
    "<br>\n",
    "\n",
    "\n"
   ]
  },
  {
   "cell_type": "markdown",
   "metadata": {},
   "source": [
    "## **Introduction**\n",
    "---\n",
    "In the quantum computing field, constant advancements are being made in the realm of information computation. Among these advancements is Deutsch's algorithm, which was created by David Deutsch and has proven invaluable. As part of my studies for the fourth-year module, Emerging Technologies, taught by Ian McLoughlin, I have been tasked with exploring Deutsch's algorithm. Through this assignment, I intend to explain the basics of quantum computers, draw a comparison between quantum and classical computers, and dive into the topic of Deutsch's algorithm in greater detail.\n",
    "<br><br><br>"
   ]
  },
  {
   "cell_type": "markdown",
   "metadata": {},
   "source": [
    "## **What is Quantum Computing**\n",
    "---\n",
    "\n",
    "Quantum computing is a cutting-edge approach to processing and storing information that uses the fundamental principles of quantum mechanics. Quantum computing uses qubits(quantum bits), whereas classic computers use bits, e.g. 0 or 1. Qubits can exist in a superposition of states, meaning that qubits can represent 0 and 1 simultaneously. This unique feature of quantum computing and entanglement allows us to solve complex problems more efficiently.\n",
    "\n",
    "\n",
    "\n",
    "### **The Fundamental Principles of Quantum Computing**\n",
    "\n",
    "With a brief introduction to the basic concept of quantum computing, we can now delve deeper into the core principles and components that enable us to harness the cutting-edge capabilities of quantum computing. Quantum computing's core principles and building blocks distinguish it from classic computing, offering us a greater possibility of solving complex problems more efficiently. So, let us delve deeper into the key elements that allow us to harness the true potential of quantum computing.\n",
    "\n",
    "1. **Qubits**<br>\n",
    "   Qubits, short for Quantum Bits, are the building blocks for quantum computing. Unlike classic computing bits, which can either be 0 OR 1, quantum bits have an ability called superposition, which means that a quantum bit can be 0 AND 1 simultaneously. This ability allows us to open the door to process many calculations or processes simultaneously. Another ability of qubits is that they can become entangled, which is another way quantum bits and classic bits differ, as classic bits cannot entangle. The combination of both superposition and entanglement allows quantum computers to solve complex problems more efficiently.\n",
    "\n",
    "2. **Superposition**<br>\n",
    "   Superposition is a concept in quantum mechanics that forms the basis for the capabilities of quantum computing. It allows qubits to exist in multiple states at the same time. E.g. qubits can represent both 0 and 1 at the same time. Superposition changes how information is processed because it allows quantum computers to explore possible solutions to a problem. This allows quantum computations to work in parallel, which can offer the completion of a specific task compared to what you could expect from a classic computer. Superposition forms the foundation of what quantum computing offers and shows us the difference between it and classic quantum computing, incapable of simultaneously representing bits.\n",
    "\n",
    "3. **Entanglement**<br>\n",
    "   Entanglement in quantum mechanics is where two or more particles(electrons and photons, for example) become deeply interconnected, regardless of their physical distance. When particles become entangled, the state of one of the particles will influence the state of the other, and it does so in a way that defies the boundaries of physics. In quantum computing, entangled qubits(also known as quantum bits) allow for coordinated and synchronised operations that classical bits or classic computers cannot perform.\n",
    "\n",
    "4. **Quantum Gates & Quantum Algorithms**<br>\n",
    "   Quantum gates and quantum algorithms are responsible for the impressive computational power of quantum computing. Quantum Gates are responsible for manipulating the states of qubits to perform specific quantum operations such as superposition and entanglement. Quantum gates are the building blocks that enable us to create quantum circuits, which play an essential part in the computing capabilities of quantum computing. However, what about quantum algorithms? Quantum algorithms are the driving force behind quantum computer's computational power. These algorithms are used to leverage the properties of quantum bits in quantum computers. They are designed so that we can use quantum computers to solve complex problems efficiently compared to how a classic computer may solve the same complex problems. \n",
    "   Quantum algorithms are created to solve specific problems efficiently, such as scientific simulations, cryptography, and other processes. Quantum algorithms harness the power of superposition, entanglement and quantum gates to help us unlock the full potential of quantum computing.\n",
    "\n",
    "With these principles, quantum computing has the potential to help us transform various fields such as cryptography, drug discovery, and problems that we would have thought were computationally impossible. Unfortunately, quantum computing is still in its early days, and quantum computers are not yet at a level where they can perform practical tasks faster, cheaper, or more efficiently than a classical computer. So, what are quantum computers used for if that is the case? Well, one use of quantum computing is machine learning. Machine learning is when we analyse large amounts of data to help computers make better predictions and decisions. For example, we can create a model to detect/track cars, buses or bikes with machine learning. Which in turn could help someone study traffic patterns or other interests.\n",
    "<br><br><br>\n",
    "   "
   ]
  },
  {
   "cell_type": "markdown",
   "metadata": {},
   "source": [
    "### **The Challenges of Quantum Computing**\n",
    "\n",
    "Even though Quantum Computing is a cutting-edge approach and has the possibility to help many different fields, there are still many challenges and limitations that quantum computing will need to overcome before quantum computers can be adopted widely. Here are some of the challenges and limitations that are experienced by quantum computing.\n",
    "\n",
    "   1. **Scalability**: The current quantum computers we have are actually quite difficult to scale compared to todays classical computers. This is because quantum computers today have have a small number of quantum bits which is what limits them and their processing power. And to build larger quantum computers (vertical scaling) we would have to figure out how to fix the issue of quantum bits fragility and how to maintain quantum coherence. Quantum coherence being a property of quantum computing/mechanics which is the ability to maintain multiple states at the sane time.\n",
    "\n",
    "   2. **Error Correction**: Quantum computers need to be able to have reliable error correction so that they can provide reliable calculations. Implementing this can be quite difficult and as a side effect of implementing error correction it will cause these quantum algorithms to require more resources.\n",
    "\n",
    "   3. **Environmental Noise**: Another challenge that you may never have thought abut when it comes to quantum computing is environmental noise e.g. Thermal noise, Photon noise, Electronic noise and electronic noise. These factors such as photon or heat can cause errors when it comes to measuring a quantum bit which will of course cause an error in the process/calculation.\n",
    "\n",
    "   4. **Decoherence**: Dechoherence is a challenge in quantum computing that happens from the interaction of quantum computers with their surroundings. This interaction can cause the quantum states of qubits to become entangled with the environment which leads to the loss of coherence which ends up ruining the quantum information that the qubits represent.Quantum systems conncetion with the external surroundings shows the requirement for perfect conditions for quantum computers to perform ath their best.\n",
    "\n",
    "### **Solving the Challenges of Quantum Computing**\n",
    "Of course, Quantum Computing has immense promise, but as discussed, it faces challenges that researchers are working tirelessly to overcome.\n",
    "   \n",
    "   1. **Scalability**: One of the ways researchers are using to address the challenge of scaling in quantum computing is to try and improve the physical implementation and engineering of qubits and quantum systems. Of course, to do so would involve developing new technologies and finding/developing new materials that can support more stable and coherent qubits. This also involves enhancing the control and connectivity of qubits with technology such as microwave pulses and quantum dots. Another way research are trying to improve the scalability of quantum computers is to improve the design and programming of qubits anf quantum algorithms. This involves finding new methods and tools that can help simplify create more efficient quantum computation and processes by using quantum gates, circuits and error correctiong code.#\n",
    "\n",
    "   2. **Error Correction**: At Princeton University, led by Jeff Thompson and his team have developed a method to fix the errors in quantum computers. Rather than just trying to completely prevent errors, they have come up with a method of spotting errors easily when they occur. They have dones this by using a special type of quantum computer with neutral atoms. By watching these atoms closely during calculations and processes they have the ability to cathc errors without ruining the process it is working on. This new method is essentially finding and fixing mistakes in a better and smarter way. It not only reduces the errors in the computer but also makes it easier to figure out how to correct them.[Princeton University: Illuminating errors creates a new paradigm for quantum computing October 11, 2023](https://engineering.princeton.edu/news/2023/10/11/illuminating-errors-creates-new-paradigm-quantum-computing#:~:text=Researchers%20have%20developed%20a%20method,computational%20problems%2C%20the%20researchers%20said.)\n",
    "\n",
    "   3. **Environmental Noise**: Researchers at the University of Chicago in the school of Pritzker School of Molecular Engineering have developed a new method of monitoring the noise around quantum systems and adjust qubits in real-time to minamise errors. This new method involves using noise-cancelling quibits called spectator bits are used for measuring the environmental noise rather than storing information by constantly monitoring the environmental noise around the system. This system will detect changes in noise and uses that information to cancel out noise in critical data-processing qubits. Which seems like an ingenious way to go about solving the issue of environmental noise of quantum computing. And a great example to help put it simply, which is used by Asst. Prof. Hannes Bernien who led the research, you can liken this new method similar to noise-cancelling headphones which are constantly listening for surrounding noises which it then cancels them out by emitting an opposing frequency. [PHYS.ORG - Researchers develop 'noise-cancelling' qubits to minimize errors in quantum computers. May 25, 2023](https://phys.org/news/2023-05-noise-canceling-qubits-minimize-errors-quantum.html)\n",
    "\n",
    "\n",
    "<br><br>"
   ]
  },
  {
   "cell_type": "markdown",
   "metadata": {},
   "source": [
    "### **Quantum Computing compared to Classical Computing**\n",
    "\n",
    "Quantum computers and classic computers have two very different approaches to computation. Both of these computing methods both share the goal of completing a process for information but their principles an capabilites differ.\n",
    "\n",
    "#### Computational Power\n",
    "Theoretically quantum computers have an advantage over classic computers with their computational power. Quantum algorithms can use quantum principles such as superposition and entanglement to perform specific processes and calculations faster and more efficiently than classical computers. But right now these advantages are largly theoretical, in current day quantum computers are still in the early stages of development and the practiacality of quantum computers still have many challenges, such as scalability, error correction, environmental noise and dechoherence. Whereas the computers we use everyday also known as classic computers have much more maturity compared to quantum computers and are widely used by all types of people for a variety of different tasks. These computers are excellent at sequential algorithms and of course are optimized for the classic computational computers. So despite quantum computers potential they cannot yet consitently outperform classic computers for everyday general purpose computing tasks.\n",
    "\n",
    "#### Information Representation\n",
    "The fundamental unit of information in quantum computing is a quantum bit also known as a qubit as I've mentioned previously. It can exist in a superposition, where it can represent both a 0 and a 1 at the same time. This property of the qubit allows quantum computers perform various calculations and processes that may be impossible for classical computers. Classical computers on the other hand have what is simply known as a bit, that can only reprsent itself as either a 0 or a 1, but not both like a quantum bit can.\n",
    "\n",
    "#### Physical Requirements\n",
    "Quantum computers need exremely cold temperatures to operate correctly and keep their quantum coherence, e.g. maintaining the states of the qubits , specifically they must be kept at -273 degrees celsius. Whereas with classical computers they can be operated in room temperature without any real concern for the temperature dipping above or below a certain temperature, within reason for a reagular classical computer that is.  Another hardware difference between quantum computers and classical computers is the actual hardware inside of them. For example, quantum processes and calculations are performed using quantum processors which are specialised to manipulate and control qubits. These quantum processors of course are still under development and face challenges such as scalability anbd error correction. Classical computers on the other hand have their processes carried out by central processing units also known as CPUs. Compared to quantum processors, CPUs have been developed and refined over decades which has resulted in having fast, efficient and reliable processors that we use to power a variety of different devices.\n",
    "\n",
    "<br><br>\n"
   ]
  },
  {
   "cell_type": "markdown",
   "metadata": {},
   "source": [
    "## **Deutsch's Algorithm ?**\n",
    "\n",
    "Deutsch's Algorithm was developed in 1985 by British physicist David Deutsch. The groundbreaking algorithm showcased a new era of quantum computer problem solving by showcasing how quantum computers could outperform classic computers in completing specific tasks But what was Deutsch's algorithm created to do?, Deutsch's algorithm was created to solve a problem, The Deutsch Problem.\n",
    "\n",
    "\n",
    "\n",
    "## **The Deutsch Problem**\n",
    "\n",
    "Deutsch's algorithm was created to solve the a problem, The Deutsch problem. Deutsch's problems is a very specific computational problem in quantum computing. In this problem we are presented with a black-box function (also known as an oracle) where we can either have an single bit input of 0 or 1 will receive a single bit output of either 0 or 1. This function can fall into one of two categories, it will either be Constant or Balanced. But what does this mean?\n",
    "\n",
    "**Constant**: A constant function means that regardless of what single bit input we give the function we can expect to get the same single bit output every time. So for example if we were to input 0 we could get a 1 back, but if we inputted a 1 we could also expect a 1 back.\n",
    "\n",
    "**Balanced**: A balanced function means that the single bit output is dependent on what single bit input is given to the function. Which means that there will be different outputs for the two outputs it can receive e.g. 0, 1.  \n",
    "\n",
    "The objective behind Deutsch's problem was to determine whether or not that the function in the black-box was constant or balanced, but we also had to find this out with the fewest amount of queries to the black-box function. Before we had Deutsch's algorithm, with the worst case scenario there would have to be at least two queries made to the black-box function to find out if we had a constant or balanced function.\n",
    "\n",
    "\n",
    "## **How does Deutsch's Algorithm work?**\n",
    "\n",
    "Deutsch's Algorithm Step by Step:\n",
    " 1. **Initialisation**: In the first step of Deutsch's algorithm, we initialise two qubits and have them set to a know state. E.g. 0\n",
    " 2. **Hadamard Transformation**: In this step we apply Hadamard's transformation to both of the qubits that we set in the first step. This process places each qubit in a superposition of states, meaning that have a 50 percent chance of being 0 or a 50 percent chance of being 1. To understand superposition more you can go back to \"The Fundamental Principles of Quantum Computing\" part of this assignment.\n",
    " 3. **Black-Box**: In this third step Deutsch's algorithm uses a black-box function. This checks to see if the function is constant or balanced through the use of entanglement. Entanglement is used to distinguish between constant and balanced functions.\n",
    " 4. **Measurement Basis**: In this step we return the qubits to the standard measurement basis, this step is required to get the final result from the quantum state. \n",
    " 5. **Measurement and Solution**:  In this fifth and final step the qubits are measured which can give us the answer to whether or not the black-box function is constant or balanced.\n",
    "\n",
    "So if the measurement we receive is a 1, this means according to Deutsch's algorithm we have a balanced black-box function, but if we have a measurement of 0 according to Deutsch's algorithm we have a constant black-box function.\n",
    "\n"
   ]
  },
  {
   "cell_type": "markdown",
   "metadata": {},
   "source": [
    "## **Deutsch's Algorithm Code Example**\n",
    "The following code is an implementation of Deutsch's algorithm in Qiskit whicj is a quantum computing framework programmed in python. This algorithm is designed to solve a particulr problem more efficiently than classical algorithms and this problem is known as the Deutsch problem. In classical computing you would need at least two querues to determine if a function is either balanced or constant(unbalanced). But with Deutsch's algorithm uses just one single query to make this distinction. The qiskit code simulates the quantum circuits, which help us provide insights into the capabilities of the power of quantum computing.\n",
    "\n",
    "## **Qiskit**\n",
    "possible brief explanation of qiskit"
   ]
  },
  {
   "cell_type": "code",
   "execution_count": 26,
   "metadata": {},
   "outputs": [
    {
     "name": "stdout",
     "output_type": "stream",
     "text": [
      "balanced {'0': 4, '1': 6}\n",
      "unbalanced-0 {'1': 8, '0': 2}\n",
      "unbalanced-1 {'0': 3, '1': 7}\n"
     ]
    }
   ],
   "source": [
    "## https://jan-czechowski.medium.com/implementing-deutschs-algorithm-in-qiskit-and-cirq-48949d60e59d\n",
    "## pip install qiskit, pip install qiskit-aer\n",
    "# Imported the required modules\n",
    "import qiskit\n",
    "from qiskit import QuantumCircuit, QuantumRegister,ClassicalRegister, Aer\n",
    "\n",
    "#define quantum registers anf a classic register\n",
    "regs = [QuantumRegister(2, 'q'), ClassicalRegister(1, 'c')]\n",
    "\n",
    "# state initialization: Apply X on the second qubit, and Hadamard gates on both qubits\n",
    "init = QuantumCircuit(*regs)\n",
    "init.x(1)\n",
    "init.h(0)\n",
    "init.h(1)\n",
    "init.barrier()\n",
    "\n",
    "# Balanced Oracle: Apply a controlled-X (CNOT) gate, the ouput depends on the input\n",
    "balanced = QuantumCircuit(*regs)\n",
    "balanced.cx(0,1)\n",
    "balanced.barrier()\n",
    "\n",
    "# Unbalanced Oracle 0: Unity operation, no change to input\n",
    "unbalanced0 = QuantumCircuit(*regs)\n",
    "unbalanced0.barrier()\n",
    "\n",
    "# Unbalanced Oracle 1: Apply X gate on the second qubit, output flipped regardless of input\n",
    "unbalanced1 = QuantumCircuit(*regs)\n",
    "unbalanced1.x(1)\n",
    "unbalanced1.barrier()\n",
    "\n",
    "# Apply Hadamard gate to the first qubit and measure it\n",
    "end = QuantumCircuit(*regs)\n",
    "end.h(0)\n",
    "end.measure(0, 0)\n",
    "\n",
    "# Use Qiskit Aer simulator\n",
    "sim = Aer.get_backend('qasm_simulator')\n",
    "\n",
    "#Unbalanced can be seen as the same as constant\n",
    "# Run simulation for each kind of oracle (balanced, unbalanced0, unbalanced1)\n",
    "for kind, oracle in (('balanced', balanced),\n",
    "                     ('unbalanced-0', unbalanced0),\n",
    "                     ('unbalanced-1', unbalanced1)):\n",
    "    \n",
    "    # Compose the circuits with oracles and the end circuit, and transpile\n",
    "    #changed circuit. coompose concatenates circuits and the front = true makes sure that operations are added to the begining of the circuit whic fixed the issue \n",
    "    # I was having from the example\n",
    "    circuit = init.compose(oracle, front=True).compose(end, front=True)\n",
    "    transpiled = qiskit.transpile(circuit)\n",
    "\n",
    "    # Run the simulation and print the measurement outcomes\n",
    "    counts = sim.run(transpiled, shots=10).result().get_counts()\n",
    "    print(kind, counts)"
   ]
  },
  {
   "cell_type": "markdown",
   "metadata": {},
   "source": [
    "### **Sample Output Explaination**\n",
    "Sample output:<br>\n",
    "<pre>\n",
    "balanced     {'0': 4, '1': 6}<br>\n",
    "unbalanced-0 {'1': 8, '0': 2}<br>\n",
    "unbalanced-1 {'0': 3, '1': 7}<br>\n",
    "</pre>\n",
    "**Balanced Output**: Out of 10 measurements, 4 resulted in a '0' and 6 resulted in '1'. This means that the the quantum algorithm saw a higher chance of '1' rather than '0'. The balanced oracle creates an entangled state and the measurementsreflect the superposition of states.<br>\n",
    "**Unbalanced Ouput 0**: Out of the 10 measurements, 2 resulted in a '0' and 8 resulted in a '1'. This means that the quantum algorithm saw a higher chances of a '1', suggesting that the oracle is constant(unbalanced)<br>\n",
    "**Unbalanced Ouput 1**: Out of the 10 measurements, 3 resulted in a '0' and 7 resulted in a '1'.  Similar to the balanced output this means that the quantum algorithm  saw a greater chance of a '1'. The unbalanced oracle flips the output, and the measurements reflect the superposition of states.<br>\n",
    "\n",
    "Even though the results of these may not be deterministic, the quantum algorithm shows us a probablisitic behaviour that allows us to correctly identify whether an oracle is constant or balanced. This differs from classic computing algorithms which would have to make multiple queries to reach the same conclusion. "
   ]
  },
  {
   "cell_type": "markdown",
   "metadata": {},
   "source": [
    "## **References**\n",
    "How does the Deutsch's algorithm work?\n",
    "https://www.classiq.io/insights/the-deutsch-jozsa-algorithm-explained#:~:text=Using%20the%20Deutsch%2DJozsa%20approach,or%20all%20outputs%20are%201.\n",
    "\n",
    "Checking what parallel computing is\n",
    "https://en.wikipedia.org/wiki/Parallel_computing\n",
    "\n",
    "AWS quantum computing: https://aws.amazon.com/what-is/quantum-computing/#:~:text=superposition%20of%20states.-,What%20are%20the%20principles%20of%20quantum%20computing%3F,superposition%2C%20entanglement%2C%20and%20decoherence.\n",
    "\n",
    "Deutsch Algorithm: https://anonymousket.medium.com/quantum-algo-deutsch-jozsa-algorithm-7181bd1e6a02\n",
    "\n",
    "Deutsch's Algorithm Code Example: https://jan-czechowski.medium.com/implementing-deutschs-algorithm-in-qiskit-and-cirq-48949d60e59d\n",
    "\n",
    "Limitations and Challenges: https://arxiv.org/abs/2301.08542#:~:text=While%20current%20error%2Dcorrecting%20strategies,quantum%20algorithms%20of%20increasing%20complexity.\n",
    "https://www.nature.com/articles/d41586-023-01692-9#:~:text=The%20quantum%20rules%20of%20this,those%20do%20not%20yet%20exist.\n",
    "https://news.uchicago.edu/story/noise-cancelling-qubits-can-minimize-errors-quantum-computers#:~:text=A%20daunting%20challenge,to%20high%20rates%20of%20error.\n",
    "https://www.nature.com/articles/s41534-020-00309-7#:~:text=With%20active%20research%20and%20development,corrected%20to%20improve%20measurement%20fidelity.\n",
    "\n",
    "Quantum systems decoherence: https://www.sciencedirect.com/science/article/pii/S0079672799000038#:~:text=Quantum%20decoherence%20arises%20from%20the,expressed%20in%20an%20appropriate%20basis).\n",
    "\n",
    "Quantum computers physical requirements: https://www.paragraf.com/quantum-computing/#:~:text=Quantum%20computers%20require%20a%20highly,fundamental%20units%20of%20quantum%20information.\n",
    "\n",
    "https://github.com/qiskit-community/qiskit-community-tutorials/blob/master/algorithms/deutsch_jozsa.ipynb\n",
    "\n",
    "Linkedin Scalability: https://www.linkedin.com/advice/0/how-do-qubits-affect-scalability-complexity-quantum#physical-solutions\n",
    "\n",
    "Princeton University, Illuminating errors creates a new paradigm for quantum computing: https://engineering.princeton.edu/news/2023/10/11/illuminating-errors-creates-new-paradigm-quantum-computing#:~:text=Researchers%20have%20developed%20a%20method,computational%20problems%2C%20the%20researchers%20said.\n",
    "\n",
    "Phys.org - University of Chicago: Solving environemental noise: https://phys.org/news/2023-05-noise-canceling-qubits-minimize-errors-quantum.html"
   ]
  }
 ],
 "metadata": {
  "kernelspec": {
   "display_name": "base",
   "language": "python",
   "name": "python3"
  },
  "language_info": {
   "codemirror_mode": {
    "name": "ipython",
    "version": 3
   },
   "file_extension": ".py",
   "mimetype": "text/x-python",
   "name": "python",
   "nbconvert_exporter": "python",
   "pygments_lexer": "ipython3",
   "version": "3.9.13"
  },
  "orig_nbformat": 4
 },
 "nbformat": 4,
 "nbformat_minor": 2
}
