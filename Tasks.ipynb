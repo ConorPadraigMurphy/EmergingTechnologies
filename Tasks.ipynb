{
 "cells": [
  {
   "cell_type": "markdown",
   "metadata": {},
   "source": [
    "# Emerging Technology Tasks"
   ]
  },
  {
   "cell_type": "markdown",
   "metadata": {},
   "source": [
    "## Task 1\n",
    "---\n",
    "### Collatz Sequence Generation\n",
    "The function initializes an empty list named collatz_numbers to store the Collatz sequence.\n",
    "\n",
    "A while loop continues until the value of n becomes 1, generating the Collatz sequence:\n",
    "\n",
    "The current value of n is appended to collatz_numbers.\n",
    "If n is even, it is updated to n/2; if odd, it is updated to 3n + 1.\n",
    "After the loop, the final value of 1 is appended to the collatz_numbers list.\n",
    "\n",
    "### Output\n",
    "The length of the Collatz sequence is calculated using the len function.\n",
    "\n",
    "The length and the elements of the Collatz sequence are printed using print statements."
   ]
  },
  {
   "cell_type": "code",
   "execution_count": 9,
   "metadata": {},
   "outputs": [
    {
     "name": "stdout",
     "output_type": "stream",
     "text": [
      "The length of collatz sequence is 30\n",
      "Sequence:\n",
      "10000\n",
      "5000\n",
      "2500\n",
      "1250\n",
      "625\n",
      "1876\n",
      "938\n",
      "469\n",
      "1408\n",
      "704\n",
      "352\n",
      "176\n",
      "88\n",
      "44\n",
      "22\n",
      "11\n",
      "34\n",
      "17\n",
      "52\n",
      "26\n",
      "13\n",
      "40\n",
      "20\n",
      "10\n",
      "5\n",
      "16\n",
      "8\n",
      "4\n",
      "2\n",
      "1\n"
     ]
    }
   ],
   "source": [
    "def collatz_sequence(n):\n",
    "    # Initialize an empty list to store the Collatz sequence\n",
    "    collatz_numbers=list() \n",
    "    # Continue the loop until n becomes 1\n",
    "    while (n!=1) :\n",
    "        # Append the current value of n to the Collatz sequence\n",
    "        collatz_numbers.append(n) \n",
    "        # If n is even, update n to n/2\n",
    "        if (n%2==0) :\n",
    "            n=n//2\n",
    "        # If n is odd, update n to 3n + 1\n",
    "        else:\n",
    "            n=(3*n)+1\n",
    "    # Append the final value of 1 to the Collatz sequence\n",
    "    collatz_numbers.append(1)\n",
    "    # Calculate the length of the Collatz sequence\n",
    "    l=len(collatz_numbers)\n",
    "\n",
    "    # Print the length of the Collatz sequence\n",
    "    print(\"The length of collatz sequence is\", l)\n",
    "    # Print the elements of the Collatz sequence\n",
    "    print(\"Sequence:\")\n",
    "    for i in range(0,l):\n",
    "      print(collatz_numbers[i])\n",
    "\n",
    "# Call the function with an initial value of 10000\n",
    "collatz_sequence(10000)"
   ]
  },
  {
   "cell_type": "markdown",
   "metadata": {},
   "source": [
    "## Task 2\n",
    "---\n",
    "# Square Root Approximation\n",
    "\n",
    "This code implements a square root approximation using the Babylonian method. The `sqrt` function iteratively refines the approximation, considering a specified number of iterations and a convergence threshold. An example value is provided, and the result is printed.\n",
    "\n"
   ]
  },
  {
   "cell_type": "code",
   "execution_count": 7,
   "metadata": {},
   "outputs": [
    {
     "name": "stdout",
     "output_type": "stream",
     "text": [
      "Square root of 70.7 is approximately 8.408329203861108\n"
     ]
    }
   ],
   "source": [
    "# Define a function for square root approximation using the Babylonian method\n",
    "def sqrt(x):\n",
    "    # Initial guess for the square root\n",
    "    z0 = 9\n",
    "    \n",
    "    # Number of iterations for refinement\n",
    "    number_of_iterations = 10\n",
    "    \n",
    "    # Threshold for convergence\n",
    "    number_threshold = 0.01\n",
    "\n",
    "    # Iterate to refine the square root approximation\n",
    "    for _ in range(number_of_iterations):\n",
    "        # Update the approximation using the Babylonian method\n",
    "        z1 = 0.5 * (z0 + x / z0)\n",
    "\n",
    "        # Check if the difference between successive approximations is below the threshold\n",
    "        if abs(z1 - z0) < number_threshold:\n",
    "            # Return the refined square root approximation\n",
    "            return z1\n",
    "        \n",
    "        # Update the previous approximation for the next iteration\n",
    "        z0 = z1\n",
    "\n",
    "# Given value for which square root is to be approximated\n",
    "x = 70.7\n",
    "\n",
    "# Call the sqrt function to get the result\n",
    "result_of_sqrt = sqrt(x)\n",
    "\n",
    "# Print the result\n",
    "print(f\"Square root of {x} is approximately {result_of_sqrt}\")\n"
   ]
  },
  {
   "cell_type": "markdown",
   "metadata": {},
   "source": [
    "Task 3\n",
    "---\n",
    "## Random Boolean Function Evaluation\n",
    "\n",
    "The code generates a random 16-bit integer (`randomFunct`) and defines a function (`functionOut`) that performs a bitwise operation on this random integer and a binary representation of a given input. The code then iterates through 16 different binary inputs (0 to 15) and prints the corresponding function outputs. The randomly generated integer is displayed at the end.\n",
    "\n",
    "In summary, the code demonstrates the evaluation of a randomly generated boolean function for a set of binary inputs, with the behavior of the function determined by the random 16-bit integer.\n",
    "\n"
   ]
  },
  {
   "cell_type": "code",
   "execution_count": 8,
   "metadata": {},
   "outputs": [
    {
     "name": "stdout",
     "output_type": "stream",
     "text": [
      "Input: [0, 0, 0, 0], Output: 0\n",
      "Input: [0, 0, 0, 1], Output: 1\n",
      "Input: [0, 0, 1, 0], Output: 0\n",
      "Input: [0, 0, 1, 1], Output: 0\n",
      "Input: [0, 1, 0, 0], Output: 0\n",
      "Input: [0, 1, 0, 1], Output: 0\n",
      "Input: [0, 1, 1, 0], Output: 0\n",
      "Input: [0, 1, 1, 1], Output: 1\n",
      "Input: [1, 0, 0, 0], Output: 1\n",
      "Input: [1, 0, 0, 1], Output: 0\n",
      "Input: [1, 0, 1, 0], Output: 1\n",
      "Input: [1, 0, 1, 1], Output: 0\n",
      "Input: [1, 1, 0, 0], Output: 1\n",
      "Input: [1, 1, 0, 1], Output: 1\n",
      "Input: [1, 1, 1, 0], Output: 0\n",
      "Input: [1, 1, 1, 1], Output: 1\n",
      "Random function: 46466\n"
     ]
    }
   ],
   "source": [
    "# Import the random module for generating a random integer\n",
    "import random\n",
    "\n",
    "# Generate a random 16-bit integer and store it in randomFunct\n",
    "randomFunct = random.randint(0, 2**16-1)\n",
    "\n",
    "# Define a function named functionOut that takes an input and evaluates a bitwise operation\n",
    "def functionOut(input):\n",
    "    # Convert the binary representation of the input to an integer and right-shift randomFunct\n",
    "    # Perform a bitwise AND operation with 1 and return the result\n",
    "    return (randomFunct >> int(\"\".join(map(str, input)), 2)) & 1\n",
    "\n",
    "# Loop through 16 different binary inputs (0 to 15) and print the corresponding outputs\n",
    "for i in range(16):\n",
    "    # Convert the decimal number i to a binary representation with 4 digits\n",
    "    input = [int(bit) for bit in format(i, \"04b\")]\n",
    "    \n",
    "    # Call the function functionOut with the current input\n",
    "    output = functionOut(input)\n",
    "    \n",
    "    # Print the input and output for each iteration\n",
    "    print(f\"Input: {input}, Output: {output}\")\n",
    "\n",
    "# Display the randomly generated 16-bit integer\n",
    "print(f\"Random function: {randomFunct}\")\n"
   ]
  },
  {
   "cell_type": "markdown",
   "metadata": {},
   "source": [
    "Task 4\n",
    "----\n",
    "\n",
    "## Matrix Multiplication\n",
    "\n",
    "The code defines a function `MatrixMultiplication(matrixA, matrixB)` for multiplying two matrices. It ensures that the number of columns in `matrixA` is equal to the number of rows in `matrixB` before proceeding with multiplication. The function then initializes a matrix (`results`) to store the multiplication results and uses nested loops to perform the matrix multiplication. Example matrices `matrixA` and `matrixB` are provided, and the function is called with these matrices. The resulting matrix from the multiplication is printed.\n",
    "\n",
    "In summary, the code demonstrates matrix multiplication of example matrices and includes a function for generic matrix multiplication with error handling for incompatible matrix dimensions.\n"
   ]
  },
  {
   "cell_type": "code",
   "execution_count": 9,
   "metadata": {},
   "outputs": [
    {
     "name": "stdout",
     "output_type": "stream",
     "text": [
      "[[59.0, 66.0, 134.0], [175.0, 196.0, 465.0], [216.0, 242.0, 451.0]]\n"
     ]
    }
   ],
   "source": [
    "# Define a function for matrix multiplication\n",
    "def MatrixMultiplication(matrixA, matrixB):\n",
    "    # Check if the number of columns in matrixA is equal to the number of rows in matrixB\n",
    "    if len(matrixA[0]) != len(matrixB):\n",
    "        print(\"Error: Number of columns in matrixA must be equal to the number of rows in matrixB\")\n",
    "        return None\n",
    "    \n",
    "    # Initialize a matrix to store the multiplication results\n",
    "    results = [[0 for i in range(len(matrixB[0]))] for j in range(len(matrixA))]\n",
    "    \n",
    "    # Perform matrix multiplication using nested loops\n",
    "    for i in range(len(matrixA)):\n",
    "        for j in range(len(matrixB[0])):\n",
    "            for k in range(len(matrixB)):\n",
    "                # Update the element in the result matrix\n",
    "                results[i][j] += matrixA[i][k] * matrixB[k][j]\n",
    "    \n",
    "    # Return the resulting matrix\n",
    "    return results\n",
    "\n",
    "# Example matrices for multiplication\n",
    "matrixA = [[2.0, 3.0, 2.0],\n",
    "           [7.0, 11.0, 3.0],\n",
    "           [9.0, 10.0, 7.0]]\n",
    "\n",
    "matrixB = [[7.0, 8.0, 1.0],\n",
    "           [9.0, 10.0, 40.0],\n",
    "           [9.0, 10.0, 6.0]]\n",
    "    \n",
    "# Perform matrix multiplication\n",
    "matrixMultiplicationMatrix = MatrixMultiplication(matrixA, matrixB)\n",
    "    \n",
    "# Print the result of matrix multiplication\n",
    "print(matrixMultiplicationMatrix)\n"
   ]
  }
 ],
 "metadata": {
  "kernelspec": {
   "display_name": "base",
   "language": "python",
   "name": "python3"
  },
  "language_info": {
   "codemirror_mode": {
    "name": "ipython",
    "version": 3
   },
   "file_extension": ".py",
   "mimetype": "text/x-python",
   "name": "python",
   "nbconvert_exporter": "python",
   "pygments_lexer": "ipython3",
   "version": "3.11.5"
  },
  "orig_nbformat": 4
 },
 "nbformat": 4,
 "nbformat_minor": 2
}
