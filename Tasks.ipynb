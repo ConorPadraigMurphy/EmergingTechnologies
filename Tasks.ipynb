{
 "cells": [
  {
   "cell_type": "markdown",
   "metadata": {},
   "source": [
    "# Emerging Technology Tasks"
   ]
  },
  {
   "cell_type": "markdown",
   "metadata": {},
   "source": [
    "## Task 1"
   ]
  },
  {
   "cell_type": "code",
   "execution_count": 9,
   "metadata": {},
   "outputs": [
    {
     "name": "stdout",
     "output_type": "stream",
     "text": [
      "The length of collatz sequence is 30\n",
      "Sequence:\n",
      "10000\n",
      "5000\n",
      "2500\n",
      "1250\n",
      "625\n",
      "1876\n",
      "938\n",
      "469\n",
      "1408\n",
      "704\n",
      "352\n",
      "176\n",
      "88\n",
      "44\n",
      "22\n",
      "11\n",
      "34\n",
      "17\n",
      "52\n",
      "26\n",
      "13\n",
      "40\n",
      "20\n",
      "10\n",
      "5\n",
      "16\n",
      "8\n",
      "4\n",
      "2\n",
      "1\n"
     ]
    }
   ],
   "source": [
    "def collatz_sequence(n):\n",
    "    collatz_numbers=list() \n",
    "    \n",
    "    while (n!=1) :\n",
    "        collatz_numbers.append(n) \n",
    "        if (n%2==0) :\n",
    "            n=n//2\n",
    "        else:\n",
    "            n=(3*n)+1\n",
    "    collatz_numbers.append(1)\n",
    "    l=len(collatz_numbers)\n",
    "\n",
    "    print(\"The length of collatz sequence is\", l)\n",
    "    print(\"Sequence:\")\n",
    "    for i in range(0,l):\n",
    "      print(collatz_numbers[i])\n",
    "\n",
    "collatz_sequence(10000)"
   ]
  },
  {
   "cell_type": "markdown",
   "metadata": {},
   "source": [
    "## Task 2"
   ]
  },
  {
   "cell_type": "code",
   "execution_count": 10,
   "metadata": {},
   "outputs": [
    {
     "name": "stdout",
     "output_type": "stream",
     "text": [
      "square root of 70.7 is 8.408329203861108\n"
     ]
    }
   ],
   "source": [
    "def sqrt(x):\n",
    "    z0 = 9\n",
    "    number_of_iterations = 10\n",
    "    number_threshold = 0.01\n",
    "\n",
    "    for _ in range(number_of_iterations):\n",
    "        z1 = 0.5 * (z0 + x / z0)\n",
    "\n",
    "        #abs returns absolute value of the arguement\n",
    "        if abs(z1 - z0) < number_threshold:\n",
    "                return z1\n",
    "        z0 = z1\n",
    "\n",
    "x=70.7\n",
    "result_of_sqrt = sqrt(x)\n",
    "print(f\"square root of {x} is {result_of_sqrt}\")"
   ]
  },
  {
   "cell_type": "markdown",
   "metadata": {},
   "source": [
    "Task 3\n",
    "---\n"
   ]
  },
  {
   "cell_type": "code",
   "execution_count": 27,
   "metadata": {},
   "outputs": [
    {
     "name": "stdout",
     "output_type": "stream",
     "text": [
      "Input: [0, 0, 0, 0], Output: 0\n",
      "Input: [0, 0, 0, 1], Output: 1\n",
      "Input: [0, 0, 1, 0], Output: 0\n",
      "Input: [0, 0, 1, 1], Output: 0\n",
      "Input: [0, 1, 0, 0], Output: 0\n",
      "Input: [0, 1, 0, 1], Output: 1\n",
      "Input: [0, 1, 1, 0], Output: 0\n",
      "Input: [0, 1, 1, 1], Output: 1\n",
      "Input: [1, 0, 0, 0], Output: 0\n",
      "Input: [1, 0, 0, 1], Output: 0\n",
      "Input: [1, 0, 1, 0], Output: 0\n",
      "Input: [1, 0, 1, 1], Output: 0\n",
      "Input: [1, 1, 0, 0], Output: 0\n",
      "Input: [1, 1, 0, 1], Output: 0\n",
      "Input: [1, 1, 1, 0], Output: 1\n",
      "Input: [1, 1, 1, 1], Output: 0\n",
      "Random function: 16546\n"
     ]
    }
   ],
   "source": [
    "import random\n",
    "\n",
    "randomFunct = random.randint(0, 2**16-1)\n",
    "\n",
    "def functionOut(input):\n",
    "    return (randomFunct >> int(\"\".join(map(str, input)), 2)) & 1\n",
    "\n",
    "for i in range(16):\n",
    "    input = [int(bit) for bit in format(i, \"04b\")]\n",
    "    output = functionOut(input)\n",
    "    print(f\"Input: {input}, Output: {output}\")\n",
    "\n",
    "print(f\"Random function: {randomFunct}\")"
   ]
  }
 ],
 "metadata": {
  "kernelspec": {
   "display_name": "base",
   "language": "python",
   "name": "python3"
  },
  "language_info": {
   "codemirror_mode": {
    "name": "ipython",
    "version": 3
   },
   "file_extension": ".py",
   "mimetype": "text/x-python",
   "name": "python",
   "nbconvert_exporter": "python",
   "pygments_lexer": "ipython3",
   "version": "3.11.5"
  },
  "orig_nbformat": 4
 },
 "nbformat": 4,
 "nbformat_minor": 2
}
