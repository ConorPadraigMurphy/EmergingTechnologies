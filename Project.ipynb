{
 "cells": [
  {
   "cell_type": "markdown",
   "metadata": {},
   "source": [
    "## Deutsch's Algorithm \n",
    "###### By Conor Murphy"
   ]
  },
  {
   "cell_type": "markdown",
   "metadata": {},
   "source": [
    "## Introduction\n",
    "\n",
    "For this assignment I have been tasked to explore Deutsch's Algorithm. This task has been assigned to me for my fouth year in Software Development by Ian McLoughlin. In this I will try explore and explain what Deutch's algorithm "
   ]
  },
  {
   "cell_type": "markdown",
   "metadata": {},
   "source": [
    "## What is Deutsch's Algorithm ?\n",
    "\n",
    "Deutsch's Algorithm was developed in 1985 by British physicist David Deutsch. The goundbreaking algorithm showcased a new era of quantum computer problem solving by showcasing how quantum computers could outperform classic computers in completing specific tasks."
   ]
  }
 ],
 "metadata": {
  "language_info": {
   "name": "python"
  },
  "orig_nbformat": 4
 },
 "nbformat": 4,
 "nbformat_minor": 2
}
