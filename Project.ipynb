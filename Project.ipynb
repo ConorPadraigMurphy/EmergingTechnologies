{
 "cells": [
  {
   "cell_type": "markdown",
   "metadata": {},
   "source": [
    "## Deutsch's Algorithm \n",
    "###### By Conor Murphy\n",
    "<br>\n",
    "\n",
    "\n"
   ]
  },
  {
   "cell_type": "markdown",
   "metadata": {},
   "source": [
    "## Introduction\n",
    "---\n",
    "For this assignment I have been tasked to explore Deutsch's Algorithm. This task has been assigned to me for my fouth year in Software Development by Ian McLoughlin. In this I will try explore and explain what Deutch's algorithm \n",
    "<br><br><br>"
   ]
  },
  {
   "cell_type": "markdown",
   "metadata": {},
   "source": [
    "## What is Quantum Computing\n",
    "---\n",
    "\n",
    "Quantum computing is a cutting-edge approach to processing and storing information that uses the fundamental principles of quantum mechanics. Quantum computing uses qubits(quantum bits), whereas regular classic computers use bits e.g. 0 or 1. Qubits can exist in a superposition of states, which means that qubits can represent 0 and 1 at the same time. With this unique feature of quantum computing as well as entanglement, allows us to solve complex problems more efficiently.\n",
    "\n",
    "\n",
    "### The Fundamental Principles of Quantum Computing\n",
    "\n",
    "With the brief introduction to the basic concept of quantum computing, we can now delve deeper into the core principles and components that enables us to harness the cutting-edge capabilities of quantum computing. Quantum computing's core principles and building blocks distinguishes it from classic computing and offers us a much greater possibility at solving complex problems more efficiently. So lets delve deeper into the key elements that allow us to harness the true potential of quantum computing.\n",
    "\n",
    "1. **Qubits**<br>\n",
    "   Qubits which is short for Quantum Bits are used as the building blocks for quantum computing. Unlike classic computing bits which can either be 0 OR 1, quantum bits have an ability called superposition, which means that a quantum bit can be 0 AND 1 at the same time. This ability allows us to open the door to process many calculations or processes at the same time. Another ability of qubits is that they can become entangled, which is another way quantum bits and classic bits differ as classic bits are unable to entangle. With the combination of both superposition and entanglement that allows quantum computers to solve complex problems more efficiently.\n",
    "\n",
    "2. **Superposition**<br>\n",
    "   Superposition is a concept in quantum mechanics that forms the basis for the capabilities in quantum computing. It allows qubits to exist in multiple states at the same time. E.g. qubits can represent both 0 and 1 at the same time. Superposition changes how information is processed because it allows quantum computers to explore the many possible solutions to a problem. This allows quantum computations to work in parallel which can offer the completion of a certain task compared to what you could expect from a classic computer. Superposition forms the foundation of  what quantum computing offers and shows us the difference between it and classic quantum computing which is not capable at representing bits at the same time.\n",
    "\n",
    "3. **Entanglement**<br>\n",
    "   Entanglement in quantum mechanics is where two or more particles(electrons, photons, etc) become deeply interconnected, regardless of what the physical distance is between them. When particles become entangled, the state of one of the particles will influence the state of the other, it does so in a way that it seems to defy the boundaries of physics. In quantum computing, entangled qubits(also known as quantum bits) allow for coordinated and synchronized operations that classical bits or classic computers cannot perform.\n",
    "\n",
    "4. **Quantum Gates & Quantum Algorithms**<br>\n",
    "   Quantum gates and quantum algorithms are the responsible for the amazing computational power of quantum computing. Quantum Gates are the what are responsible for manipulating the states of qubits to perform specific quantum operations such as superposition and entanglement. Quantum gates are the building blocks that enable us to create quantum circuits which play an important part in the computing capabilities of quantum computing. But what about quantum algorithms?, quantum algorithms are the driving force behind quantum computers computational power. These algorithms are used to leverage the properties of quantum bits in quantum computers. They are designed in such a way that we can use quantum computers to solve complex problems efficiently compared to how a classic computer may solve the same complex problems. \n",
    "   Quantum algorithms are created to solve specific problems efficiently, such as scientific simulations, cryptography as well as other processes and problems. Quantum algorithms harness the power of superposition, entanglement and quantum gates to help us unlock the full potential of quantum computing.\n",
    "\n",
    "With these principles, quantum computing has the potential to help us transform carious different fields such as cryptography, drug discovery and problems that we would have thought are computationally impossible. But unfortunately quantum computing is still in its early days and quantum computers are not yet at a level where they can perform a  useful task faster, cheaper or more efficiently than a classical computer. So if that is the case, what are quantum computers used for?, well one use of quantum computing is machine learning. Machine learning is when we analyze, generally, large amounts of data to help computers make better predictions and decisions. For example with machine learning we can create a model to detect/track cars, buses or bikes. Which in turn could help someone study traffic patterns or other interests.\n",
    "\n",
    "\n",
    "\n",
    "\n",
    "<br><br><br>\n",
    "   \n",
    "   "
   ]
  },
  {
   "cell_type": "markdown",
   "metadata": {},
   "source": [
    "## Deutsch's Algorithm ?\n",
    "\n",
    "Deutsch's Algorithm was developed in 1985 by British physicist David Deutsch. The groundbreaking algorithm showcased a new era of quantum computer problem solving by showcasing how quantum computers could outperform classic computers in completing specific tasks But what was Deutsch's algorithm created to do?, Deutsch's algorithm was created to solve a problem, The Deutsch Problem.\n",
    "\n",
    "## The Deutsch Problem\n",
    "\n",
    "Deutsch's algorithm was created to solve the a problem, The Deutsch problem. Deutsch's problems is a very specific computational problem in quantum computing. In this problem we are presented with a black-box function (also known as an oracle) where we can either have an single bit input of 0 or 1 will receive a single bit output of either 0 or 1. This function can fall into one of two categories, it will either be Constant or Balanced. But what does this mean?\n",
    "\n",
    "**Constant**: A constant function means that regardless of what single bit input we give the function we can expect to get the same single bit output every time. So for example if we were to input 0 we could get a 1 back, but if we inputted a 1 we could also expect a 1 back.\n",
    "\n",
    "**Balanced**: A balanced function means that the single bit output is dependent on what single bit input is given to the function. Which means that there will be different outputs for the two outputs it can receive e.g. 0, 1.  \n",
    "\n",
    "The objective behind Deutsch's problem was to determine whether or not that the function in the black-box was constant or balanced, but we also had to find this out with the fewest amount of queries to the black-box function. Before we had Deutsch's algorithm, with the worst case scenario there would have to be at least two queries made to the black-box function to find out if we had a constant or balanced function.\n",
    "\n",
    "\n",
    "## How does Deutsch's Algorithm work?\n",
    "\n",
    "The Deutsch algorithm has a five step process.\n",
    " 1. In the first step quantum we initialize two quantum bits.\n",
    " 2. In the second step we use the Hadamard transformation on both bits, this means each qubit has a fifty percent chance to be a 1 and a fifty percent chance to be a 0.\n",
    " 3. The third step is where the black box function determines whether or not the outputs are constant or balanced via quantum entanglement.\n",
    " 4. The fourth step returns those bits to the measurement basis in order to find the answer.\n",
    " 5. And in the fifth and final step, the bits are measured to obtain the solution.\n",
    "\n",
    "If the measurement result is a 0 then the black box function is constant and if the measurement is 1 this indicates that it is balanced.\n",
    "\n"
   ]
  },
  {
   "cell_type": "markdown",
   "metadata": {},
   "source": [
    "## Refrences\n",
    "How does the Deutsch's algorithm work?\n",
    "https://www.classiq.io/insights/the-deutsch-jozsa-algorithm-explained#:~:text=Using%20the%20Deutsch%2DJozsa%20approach,or%20all%20outputs%20are%201.\n",
    "\n",
    "Checking what parallel computing is\n",
    "https://en.wikipedia.org/wiki/Parallel_computing\n",
    "\n",
    "AWS quantum computing: https://aws.amazon.com/what-is/quantum-computing/#:~:text=superposition%20of%20states.-,What%20are%20the%20principles%20of%20quantum%20computing%3F,superposition%2C%20entanglement%2C%20and%20decoherence."
   ]
  }
 ],
 "metadata": {
  "language_info": {
   "name": "python"
  },
  "orig_nbformat": 4
 },
 "nbformat": 4,
 "nbformat_minor": 2
}
